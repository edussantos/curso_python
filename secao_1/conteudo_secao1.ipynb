{
 "cells": [
  {
   "cell_type": "markdown",
   "metadata": {},
   "source": [
    "## <ins>**Lógica de programação básica**</ins> "
   ]
  },
  {
   "cell_type": "markdown",
   "metadata": {},
   "source": [
    "### **Comentários**\n",
    "\n",
    "Os comentários são úteis para o aprendizado, auxiliando a documentar alguma funcionalidade do código para melhor fixação.<br>\n",
    "Vale ressaltar que não é o ideal o uso de comentários em ambientes profissionais, podendo poluir demais o código.\n",
    "\n",
    "Utiliza-se \"#\" (cerquilha) para adicionar um comentário, onde o interpretador do Python, ao identificar esse simbolo, vai ignorar a linha de código não processando ela.\n"
   ]
  },
  {
   "cell_type": "code",
   "execution_count": null,
   "metadata": {},
   "outputs": [],
   "source": [
    "# Isso é um comentário em Python"
   ]
  },
  {
   "cell_type": "markdown",
   "metadata": {},
   "source": [
    "### **Docstrings**\n",
    "\n",
    "São cadeias de caracteres usadas para documentar partes do código, como módulos, funções e classes. Também é possível utilizar para criar comentários de várias linhas, mas o interpretador do Python vai processar essas linhas, podendo afetar o desempenho em códigos maiores ou com muitas funcionalidades.\n",
    "\n",
    "Utiliza-se três aspas simples ou duplas para adicionar uma docstring. \n",
    "\n",
    "Para acessar uma docstring dentro de uma função, classe ou módulo, basta usar a propriedade \"__doc__\""
   ]
  },
  {
   "cell_type": "code",
   "execution_count": null,
   "metadata": {},
   "outputs": [],
   "source": [
    "def docstring():\n",
    "    '''\n",
    "    Essa é a documentação da função docstring.\n",
    "    Ela explica o funcionamento de uma docstring.\n",
    "    '''\n",
    "    pass\n",
    "\n",
    "\n",
    "print(docstring.__doc__)"
   ]
  },
  {
   "cell_type": "markdown",
   "metadata": {},
   "source": [
    "### **Função print**\n",
    "\n",
    "Usada para exibir elementos na tela, seja no terminal da máquina ou de uma aplicação.<br>\n",
    "\n",
    "Ela recebe argumentos, que é os elementos que serão apresentados na tela. Pode ser exibidos tantos valores numéricos como cadeias de caracteres (textos).<br>\n",
    "Para inserir mais de um elemento a ser mostrado na tela, é necessário utilizar uma vírgula. Por padrão, cada chamada da função print realiza uma quebra de linha e os elementos são separados por um espaço."
   ]
  },
  {
   "cell_type": "code",
   "execution_count": null,
   "metadata": {},
   "outputs": [],
   "source": [
    "# É possível modificar o separador da função utilizando o parâmetro sep\n",
    "print(1, 2, 3, sep='') \n",
    "print(4, 5, 6, sep='-')"
   ]
  },
  {
   "cell_type": "markdown",
   "metadata": {},
   "source": [
    "### **Principais tipos de dados**\n",
    "\n",
    "#### <ins>str (string)</ins>\n",
    "\n",
    "São sequências de caracteres, como textos e palavras. Toda string deve estar dentro de duas aspas simples ou duplas. ('', \"\")\n",
    "\n",
    "#### <ins>int e float</ins>\n",
    "\n",
    "Os tipos de dados int representam os valores numéricos inteiros (negativos ou positivos), já os tipos de dados floats representam os tipos de dados de ponto flutuante (decimais negativos ou positivos).\n",
    "\n",
    "#### <ins>bool (boolean/booleano)</ins>\n",
    "\n",
    "Representam valores verdadeiros (True) ou falsos (False). São utilizados frequentemente em estruturas condicionais e lógicas."
   ]
  },
  {
   "cell_type": "code",
   "execution_count": null,
   "metadata": {},
   "outputs": [],
   "source": [
    "# Exemplo de strings\n",
    "\n",
    "# Aspas simples\n",
    "print('Eduardo Santos')\n",
    "\n",
    "# Aspas duplas\n",
    "print(\"Isabel Emile\")\n",
    "\n",
    "# Escape (Faz o interpretador ignorar o próximo caractere)\n",
    "print(\"Eu \\\"gosto\\\" de você\")"
   ]
  },
  {
   "cell_type": "code",
   "execution_count": null,
   "metadata": {},
   "outputs": [],
   "source": [
    "# Exemplos de int\n",
    "\n",
    "print(1)\n",
    "print(0)\n",
    "print(-10, end='\\n\\n')\n",
    "\n",
    "# Exemplos de float\n",
    "# As casas decimais são separadas por ponto e não por vírgula\n",
    "\n",
    "print(1.5)\n",
    "print(0.5)\n",
    "print(-7.5, end='\\n\\n')"
   ]
  },
  {
   "cell_type": "code",
   "execution_count": null,
   "metadata": {},
   "outputs": [],
   "source": [
    "# Exemplos de bool\n",
    "\n",
    "# Obs.: Teste lógico com operador de igualdade (==)\n",
    "print(10 == 10)  # Sim -> True\n",
    "print(5 == 10)  # Não -> False"
   ]
  },
  {
   "cell_type": "code",
   "execution_count": null,
   "metadata": {},
   "outputs": [],
   "source": [
    "# Descobrindo tipo dos dados\n",
    "print(type('Eduardo'))\n",
    "print(type(5))\n",
    "print(type(0.5))\n",
    "print(type(True))"
   ]
  },
  {
   "cell_type": "markdown",
   "metadata": {},
   "source": [
    "### **Coerção de tipos** \n",
    "\n",
    "No python, é possível converter o tipo de dado de um elemento. Em determinadas situações, algumas funções do python podem retornar dados que não são adequados para determinada situação, como retornar um dado do tipo string, mas na verdade a aplicação requer um dado do tipo inteiro.\n",
    "\n",
    "Para converter, basta colocar o elemento a ser convertido dentro de uma função com o tipo de dado a ser convertido."
   ]
  },
  {
   "cell_type": "code",
   "execution_count": null,
   "metadata": {},
   "outputs": [],
   "source": [
    "print(type(int('1')))\n",
    "print(type(str(22)))\n",
    "print(int('5') + 5)"
   ]
  },
  {
   "cell_type": "markdown",
   "metadata": {},
   "source": [
    "### **Variáveis** \n",
    "\n",
    "Uma variável é um local de armazenamento nomeado que pode conter um valor, onde é usada para representar e armazenar dados na memória do computador durante a execução de um programa.<br>\n",
    "Uma vez que o Python é uma linguagem dinamicamente tipada, ou seja, os tipos de dados das variáveis são identificados de forma automática. Diferentemente das linguagens estaticamente tipadas, que é necessário declarar o tipo de dado que uma variável vai conter, não sendo possível modificar caso necessário.<br>\n",
    "As variáveis são fundamentais em qualquer linguagem de programação, pois permitem que os programas guardem e manipulem dados de forma dinâmica."
   ]
  },
  {
   "cell_type": "code",
   "execution_count": null,
   "metadata": {},
   "outputs": [],
   "source": [
    "# Operador de atribuição (=)\n",
    "nome_completo = 'Eduardo da Silva Santos'\n",
    "soma = 2 + 2\n",
    "\n",
    "print(nome_completo)\n",
    "print(soma)"
   ]
  },
  {
   "cell_type": "code",
   "execution_count": null,
   "metadata": {},
   "outputs": [],
   "source": [
    "nome = 'Eduardo'\n",
    "idade = 22\n",
    "maior_de_idade = idade >= 18\n",
    "\n",
    "print(f'Nome: {nome}\\nIdade: {idade} anos\\nMaior de idade? {maior_de_idade}')"
   ]
  },
  {
   "cell_type": "markdown",
   "metadata": {},
   "source": [
    "### **Operadores aritméticos** \n",
    "\n",
    "Os operadores aritméticos servem para realizar operações aritméticas, como subtrações, somas, multiplicações, divisões entre outras operações."
   ]
  },
  {
   "cell_type": "code",
   "execution_count": null,
   "metadata": {},
   "outputs": [],
   "source": [
    "adicao = 10 + 10\n",
    "print(f'Adição: {adicao}')\n",
    "\n",
    "subtracao = 10 - 5\n",
    "print(f'Subtração: {subtracao}')\n",
    "\n",
    "multiplicacao = 10 * 100  # Sempre retorna valor float\n",
    "print(f'Multiplicação: {multiplicacao}')\n",
    "\n",
    "divisao = 50 / 5\n",
    "print(f'Divisão: {divisao}')\n",
    "\n",
    "divisao_inteira = 3 // 2 \n",
    "print(f'Divisão inteira: {divisao_inteira}')\n",
    "\n",
    "exponenciacao = 2**3\n",
    "print(f'Exponenciação: {exponenciacao}')\n",
    "\n",
    "modulo = 4 % 2\n",
    "print(f'Módulo: {modulo}')"
   ]
  },
  {
   "cell_type": "markdown",
   "metadata": {},
   "source": [
    "### **Concatenação e repetição com operadores aritméticos** \n",
    "\n",
    "É possível utilizar o operador de adição (+) e o operador de multiplicação (*) para realizar operações em strings, sendo as operações de concatenação (juntar) e de repetição, respectivamente."
   ]
  },
  {
   "cell_type": "code",
   "execution_count": null,
   "metadata": {},
   "outputs": [],
   "source": [
    "concatenacao = 'A' + 'B' + 'C'\n",
    "print(concatenacao)\n",
    "\n",
    "repeticao = 10 * 'A'\n",
    "print(repeticao)"
   ]
  },
  {
   "cell_type": "markdown",
   "metadata": {},
   "source": [
    "### **Precedência entre os operadores aritméticos** \n",
    "\n",
    "Os operadores aritméticos em Python têm uma ordem específica de precedência, o que determina a sequência em que eles são interpretados em uma expressão.<br>\n",
    "\n",
    "Ordem:<br>\n",
    "**Parênteses ( )**: Expressões dentro de parênteses são avaliadas primeiro.<br>\n",
    "__Potência (**)__: A operação de potência é avaliada em seguida.<br>\n",
    "**Multiplicação (*), Divisão (/), Divisão inteira (//), Módulo (%)**: Essas operações são avaliadas da esquerda para a direita, seguindo a ordem em que aparecem.<br>\n",
    "**Adição (+), Subtração (-)**: Essas operações também são avaliadas da esquerda para a direita, seguindo a ordem em que aparecem."
   ]
  },
  {
   "cell_type": "code",
   "execution_count": null,
   "metadata": {},
   "outputs": [],
   "source": [
    "operacao_aritmetica1 = 1 + 2 * (2 + 2) + 5  # Resultado: 14\n",
    "operacao_aritmetica2 = 1 + 2 * 2 + 2 + 5  # Resultado: 12\n",
    "\n",
    "print(\n",
    "    f'Resultado da primeira operação: {operacao_aritmetica1}\\nResultado da segunda operação: {operacao_aritmetica2}')"
   ]
  },
  {
   "cell_type": "markdown",
   "metadata": {},
   "source": [
    "### **Introdução à f-strings (formatação de strings)**\n",
    "\n",
    "São uma forma conveniente e legível de formatar strings em Python a partir da versão 3.6 em diante. Elas permitem incorporar expressões Python dentro de strings, facilitando a criação de strings formatadas de maneira mais clara e eficiente em comparação com métodos mais antigos, como a concatenação ou o uso do método .format().\n",
    "\n",
    "A sintaxe das f-strings é simples, de modo que basta usar um prefixo \"f\" ou \"F\" antes da string e, em seguida, incorporar expressões Python dentro de chaves {} dentro da string. As expressões dentro das chaves são avaliadas e substituídas pelo seu valor durante a formatação."
   ]
  },
  {
   "cell_type": "code",
   "execution_count": null,
   "metadata": {},
   "outputs": [],
   "source": [
    "nome = 'Eduardo'\n",
    "sobrenome = 'da Silva Santos'\n",
    "\n",
    "print(f'Meu nome é {nome} {sobrenome}.')"
   ]
  },
  {
   "cell_type": "markdown",
   "metadata": {},
   "source": [
    "### **Coletando dados do usuário** \n",
    "\n",
    "Por meio da função input, é possível coletar dados dos usuários e utilizar eles da forma que for necessária, como armazenar em uma variável."
   ]
  },
  {
   "cell_type": "code",
   "execution_count": null,
   "metadata": {},
   "outputs": [],
   "source": [
    "nome_usuario = input('Digite seu nome: ')  # Retorna sempre um tipo de dado str\n",
    "idade_usuario = input('Digite sua idade: ')\n",
    "\n",
    "print(f'Seu nome é {nome_usuario} e você tem {idade_usuario} anos de idade!')"
   ]
  },
  {
   "cell_type": "code",
   "execution_count": null,
   "metadata": {},
   "outputs": [],
   "source": [
    "# Não é interessante utilizar esse tipo de conversão em entradas do usuário, já que ele pode digitar um valor não aceito do tipo que está sendo convertido.\n",
    "# Interessante é checar o valor digitado pelo usuário, realizando o tratamento de erros.\n",
    "\n",
    "num_1 = int(input('Digite um número: '))\n",
    "num_2 = int(input('Digite outro número: '))\n",
    "\n",
    "soma = num_1 + num_2\n",
    "\n",
    "print(\n",
    "    f'Os números digitados foram {num_1} e {num_2}.\\nA soma entre eles é: {soma}')"
   ]
  },
  {
   "cell_type": "markdown",
   "metadata": {},
   "source": [
    "### **Operadores relacionais ou de comparação**\n",
    "\n",
    "Os operadores relacionais são usados para comparar valores e determinar as relações entre eles. Eles retornam valores booleanos (True ou False) com base nas condições de comparação.\n",
    "\n",
    "Os operadores relacionais são:<br>\n",
    "**Igualdade (==)**: Verifica se dois valores são iguais.<br>\n",
    "**Diferente (!=)**: Verifica se dois valores não são iguais.<br>\n",
    "**Maior(>)**: Verifica se um valor é maior que outro.<br>\n",
    "**Menor(<)**: Verifica se um valor é menor que outro.<br>\n",
    "**Maior ou igual(>=)**: Verifica se um valor é maior ou igual a outro.<br>\n",
    "**Menor ou igual(<=)**: Verifica se um valor é menor ou igual a outro.<br>"
   ]
  },
  {
   "cell_type": "markdown",
   "metadata": {},
   "source": [
    "### **Operadores lógicos** \n",
    "\n",
    "Permitem combinar ou manipular valores booleanos e expressões em esruturas condicionais, sendo fundamentais para o controle do fluxo de um programa com base em condições.\n",
    "\n",
    "Os operadores são:<br>\n",
    "**and**: Retorna True se ambas as expressões forem verdadeiras.<br>\n",
    "**or**: Retorna True se pelo menos uma das expressões for verdadeira.<br>\n",
    "**not**: Retorna o inverso do valor booleano da expressão.<br>\n",
    "**in**: Retorna True se o valor estiver presente na sequência.<br>\n",
    "**not in**: Retorna True se o valor não estiver presente na sequência.<br>\n",
    "\n",
    "Vale ressaltar que oparadores lógicos e relacionais são frequentemente usados em conjunto para criar expressões condicionais mais elaboradas. "
   ]
  },
  {
   "cell_type": "code",
   "execution_count": null,
   "metadata": {},
   "outputs": [],
   "source": [
    "# Operador and\n",
    "\n",
    "login_sistema = input('Entrar no sistema --> [E]')\n",
    "senha_usuario = input('Digite a senha: ')\n",
    "senha_sistema = 'admin'\n",
    "\n",
    "# Ambos testes lógicos precisam ser verdadeiros para entrar no sistema\n",
    "if login_sistema == 'e'.lower() and senha_sistema == senha_usuario:\n",
    "    print('Entrou no sistema.')\n",
    "else:\n",
    "    print('Senha incorreta! Tente novamente.')"
   ]
  },
  {
   "cell_type": "code",
   "execution_count": null,
   "metadata": {},
   "outputs": [],
   "source": [
    "# Operador or\n",
    "\n",
    "login_sistema = input('Entrar no sistema --> [E]')\n",
    "senha_usuario = input('Digite a senha: ')\n",
    "senha_sistema = 'admin'\n",
    "\n",
    "# Ambos testes lógicos precisam ser verdadeiros para entrar no sistema\n",
    "if (login_sistema == 'E' or login_sistema == 'e') and senha_sistema == senha_usuario:\n",
    "    print('Entrou no sistema.')\n",
    "else:\n",
    "    print('Senha incorreta! Tente novamente.')"
   ]
  },
  {
   "cell_type": "code",
   "execution_count": null,
   "metadata": {},
   "outputs": [],
   "source": [
    "# Operador not \n",
    "\n",
    "print(not True)\n",
    "print(not False)"
   ]
  },
  {
   "cell_type": "code",
   "execution_count": null,
   "metadata": {},
   "outputs": [],
   "source": [
    "string = 'Eduardo'\n",
    "\n",
    "print('E' in string)\n",
    "print('e' in string)\n",
    "print(6 * '-')\n",
    "print('e' not in string)\n",
    "print('E' not in string)"
   ]
  },
  {
   "cell_type": "markdown",
   "metadata": {},
   "source": [
    "### **Estruturas condicionais** \n",
    "\n",
    "Existem função que permitem a manipulação do fluxo do programa na linguagem Python, as chamadas operações condicionais ou estruturas condicionais. As estruturas condicionais permitem que você execute diferentes blocos de código dependendo se uma condição é verdadeira ou falsa.<br>\n",
    "As principais estruturas condicionais em Python são o if, o elif (abreviação de \"else if\") e o else.<br>\n",
    "Essas operações condicionais podem ser aninhadas para lidar com casos mais complexos. \n",
    "\n",
    "A instrução if é usada para executar um bloco de código se a condição especificada for verdadeira, se a condição for falsa, o bloco de código dentro do if não será executado.\n",
    "\n",
    "A instrução else é utilizada para executar uma instrução quando a condição if não é verdadeira.\n",
    "\n",
    "A instrução elif é usada para verificar múltiplas condições após o if e antes do else. Ela permite que você verifique várias condições e execute um bloco de código correspondente à primeira condição verdadeira encontrada."
   ]
  },
  {
   "cell_type": "code",
   "execution_count": null,
   "metadata": {},
   "outputs": [],
   "source": [
    "entrada = input('Você quer \"entrar\" ou \"sair\" do sistema? ')\n",
    "\n",
    "if entrada == 'entrar':\n",
    "    print('Você entrou no sistema!')\n",
    "elif entrada == 'sair':\n",
    "    print('Você saiu do sistema!')\n",
    "else:\n",
    "    print('Entrada inválida! Digite uma opção válida.')"
   ]
  },
  {
   "cell_type": "markdown",
   "metadata": {},
   "source": [
    "### **Formatação de strings com f-strings**"
   ]
  },
  {
   "cell_type": "code",
   "execution_count": null,
   "metadata": {},
   "outputs": [],
   "source": [
    "var = 'ABCD'\n",
    "\n",
    "print(f'{var:.>10}')  # Preenchendo string com até 10 caracteres para esquerda\n",
    "print(f'{var:.<10}')  # Preenchendo string com até 10 caracteres para direita\n",
    "print(f'{var:.^10}')  # Preenchendo string com até 10 caracteres no centro\n",
    "print(f'O hexadecimal de 15 é {15:X}')  # Mostrando Hexadecimal"
   ]
  },
  {
   "cell_type": "markdown",
   "metadata": {},
   "source": [
    "### **Fatiamento de strings e função len**\n",
    "\n",
    "#### <ins>Fatiamento</ins> <ins></ins>\n",
    "\n",
    "O fatiamento (slicing) de strings é a capacidade de extrair partes específicas de uma string. Você pode fazer isso usando a notação de colchetes []. A sintaxe básica é string[início:fim:passo], onde:\n",
    "\n",
    "início: Índice do primeiro caractere a ser incluído (inclusive).<br>\n",
    "fim: Índice do primeiro caractere a ser excluído (exclusivo).<br>\n",
    "passo: Intervalo entre os caracteres.<br>\n",
    "\n",
    "As strings são indexáveis, onde cada elemento de uma string (uma letra de uma palavra por exemplo) possui uma identificação chamada de índice. Os índices sempre começam a partir do número 0. \n",
    "\n",
    "#### <ins>Função len</ins>\n",
    "\n",
    "É usada para retornar o comprimento (número de caracteres) de uma sequência, como uma string, lista, tupla, etc.\n",
    "\n",
    "Juntando as duas funcionalidades, você pode usar o fatiamento para extrair partes de uma string com base em índices e usar a função len() para determinar o comprimento da string."
   ]
  },
  {
   "cell_type": "code",
   "execution_count": null,
   "metadata": {},
   "outputs": [],
   "source": [
    "var = 'Olá mundo'\n",
    "\n",
    "# Pegando o caractere de índice (do início para o fim da string) -> 4 (M)\n",
    "print(var[4])\n",
    "\n",
    "# Pegando o caractere de índice -5 (do fim para início da string) -> (M)\n",
    "print(var[-5])\n",
    "\n",
    "# Fatiando a string\n",
    "print(var[4:])\n",
    "print(var[4:8])\n",
    "print(var[0:3])\n",
    "print(var[0::4])\n",
    "\n",
    "# Contando caracteres\n",
    "print(len(var))"
   ]
  },
  {
   "cell_type": "markdown",
   "metadata": {},
   "source": [
    "### **Introdução ao try e except** \n",
    "\n",
    "São construções usadas para lidar com exceções, que são erros que ocorrem durante a execução do código. O bloco try permite que você coloque um código que pode gerar uma exceção, enquanto o bloco except permite que você especifique como lidar com essa exceção se ela ocorrer.\n",
    "\n",
    "O bloco try é usado para envolver o código onde você espera que uma exceção possa ocorrer. Isso permite que você isole o código problemático e trate possíveis erros de forma controlada. Uma exceção em programação, é um evento que ocorre durante a execução de um programa e interrompe o fluxo normal das instruções devido a algum erro ou condição anormal. Essas condições anormais podem ser erros de sintaxe, erros de lógica, erros de tempo de execução, erros de entrada inválida, problemas de memória, entre outros.\n",
    "\n",
    "O bloco except é usado para definir como lidar com uma exceção específica que pode ser gerada dentro do bloco try. Quando uma exceção é lançada, o interpretador Python procura por um bloco except correspondente e, se encontrar, executa o código dentro desse bloco.\n",
    "\n",
    "#### <ins>Algumas exceções comuns em Python</ins> \n",
    "\n",
    "**ZeroDivisionError**: Ocorre quando você tenta dividir por zero.<br>\n",
    "**ValueError**: Ocorre quando uma função espera um argumento de um tipo específico, mas recebe um valor incompatível.<br>\n",
    "**TypeError**: Ocorre quando uma operação é realizada em um objeto de um tipo incorreto.<br>\n",
    "**IndexError**: Ocorre quando você tenta acessar um índice inválido em uma lista, tupla ou outra sequência.<br>\n",
    "**FileNotFoundError**: Ocorre quando um arquivo que você está tentando abrir não é encontrado.<br>"
   ]
  },
  {
   "cell_type": "code",
   "execution_count": null,
   "metadata": {},
   "outputs": [],
   "source": [
    "numero = input('Vou dobrar o número que você digitar: ')\n",
    "\n",
    "try: # Tenta executar o código\n",
    "    numero = numero.replace(\",\", \".\") # Tratando erro caso usuário digitar número decimal com vírgula.\n",
    "    numero = float(numero)\n",
    "    print(f'O dobro de {numero} é {numero * 2}')\n",
    "except:  # Se ocorrer algum erro ao executar o código do try, a instrução do except é executada\n",
    "    print('Você digitou um valor inválido!')"
   ]
  },
  {
   "cell_type": "markdown",
   "metadata": {},
   "source": [
    "### **Variáveis, constantes e complexidade de código** \n",
    "\n",
    "Na programação, principalmente no Python, a ideia é que os códigos e as variáveis estejam legíveis para outros programadores compreenderem seu programa. Um programa pode ser complexo, mas não pode ser construído de forma complexa, devendo ser legível e seguir certos padrões e boas práticas de programação. \n",
    "\n",
    "#### <ins>Algumas boas práticas</ins>\n",
    "\n",
    "Padronizar a escrita de um programa. Um exemplo seria no uso de constantes, que é uma \"variável\" que não altera seu valor. No Python não existe esse conceito explicitamente implantado pela linguagem, todavia, é possível utilizar esse conceito, já que existe um consenso entre os devs onde, se você for criar uma constante, você deve nomeá-la com letras maiúsculas.\n",
    "\n",
    "Evitar muitas condições dentro do mesmo if, já que isso pode dificultar o entendimento do fluxo do código, se vai ou não atender a condição e executar alguma instrução.\n",
    "\n",
    "Evitar blocos de código dentro de blocos de código. Da mesma forma que muitas condições dentro de um mesmo if, muitos blocos de códigos podem deixar o fluxo do programa confuso. O simples é melhor que o complexo e o explícito é melhor que o implícito. "
   ]
  },
  {
   "cell_type": "markdown",
   "metadata": {},
   "source": [
    "### **Função ID**\n",
    "\n",
    "Essa função em Python retorna o identificador único de cada objeto especificado. O identificador é o endereço de memória do objeto, ou seja, a posição que esse objeto está armazenado na memória principal da máquina (Memória RAM). \n",
    "\n",
    "#### <ins>Observação</ins>\n",
    "\n",
    "Tudo em Python é considerado um objeto, o que inclui números, letras, símbolos, listas, funções e muito mais. Os objetos são uma coleção de dados (chamados de atributos) e comportamentos (chamados de métodos).<br>\n",
    "\n",
    "Quando você define uma variável em Python, na verdade você está criando uma referência para um objeto na memória. Por exemplo, ao fazer x = 10, você está criando um objeto do tipo int com o valor 10 e associando essa referência à variável x. Isso significa que x não é apenas um espaço de armazenamento para um valor, mas uma referência a um objeto que possui métodos e atributos associados a ele.<br>\n",
    "Essa abordagem é parte do design da linguagem Python, que visa tornar o código mais limpo, legível e consistente. Ao tratar tudo como objetos, você pode usar métodos e atributos associados a esses objetos de forma consistente em todo o código, independentemente do tipo de dados que você está manipulando.<br>\n",
    "Por exemplo, você pode chamar métodos em uma string, como upper() para tornar todas as letras maiúsculas, ou em uma lista, como append(), para adicionar um elemento à lista. Isso é possível porque strings e listas são objetos em Python e métodos são funções associadas a esses objetos."
   ]
  },
  {
   "cell_type": "code",
   "execution_count": null,
   "metadata": {},
   "outputs": [],
   "source": [
    "var_1 = '10'\n",
    "var_2 = 10\n",
    "var_3 = '10'\n",
    "\n",
    "print(id(var_1))\n",
    "print(id(var_2))\n",
    "print(id(var_3))"
   ]
  },
  {
   "cell_type": "markdown",
   "metadata": {},
   "source": [
    "### **Tipos built-in (Tipos embutidos)**\n",
    "\n",
    "Os tipos built-in são os tipos de dados integrados diretamente com a linguagem de programação, sem a necessidade de instalação de módulos ou pacotes adicionais. Esses tipos fornecem as funcionalidades básicas e essenciais da linguagem.\n",
    "\n",
    "Alguns dos principais são:\n",
    "* <ins>int</ins><br>\n",
    "    Números inteiros \n",
    "* <ins>float:</ins><br>\n",
    "    Números de ponto flutuante (decimais)\n",
    "* <ins>str:</ins><br>\n",
    "    Textos\n",
    "* <ins>bool:</ins><br>\n",
    "    Valores booleanos, como True (verdadeiro) e False (Falso)\n",
    "* <ins>list:</ins><br>\n",
    "    Listas de elementos \n",
    "* <ins>tuple:</ins><br>\n",
    "    Tuplas de elementos\n",
    "* <ins>dict:</ins><br>\n",
    "    Dicionários (conjuntos de chave-valor) \n",
    "* <ins>set:</ins><br>\n",
    "    Conjunto de elementos únicos \n",
    "* <ins>None:</ins><br>\n",
    "    Ausência de valor \n",
    "\n",
    "É de suma importância ler e conhecer a documentação de toda linguagem de programação. É na documentação que se encontra toda a explicação das funcionalidades e recursos que ela possui.<br>\n",
    "Documentação do Python: https://docs.python.org/pt-br/3/ \n",
    "\n",
    "### **Tipos mutáveis e imutáveis**\n",
    "\n",
    "Os tipos de dados em python são divididos em dois grupos, os mutáveis e imutáveis. Os mutáveis permitem a alteração do conteúdo após a criação, podendo adicionar, remover ou modificar os elementos contidos, enquanto os tipos imutáveis são aqueles cujo os valores não podem ser alterados após sua criação.\n",
    "\n",
    "* <ins>Mutáveis</ins> \n",
    "    * list\n",
    "    * set\n",
    "    * dict\n",
    "* <ins>Imutáveis</ins> \n",
    "    * int\n",
    "    * float\n",
    "    * bool\n",
    "    * str\n",
    "    * tuple"
   ]
  }
 ],
 "metadata": {
  "kernelspec": {
   "display_name": "Python 3",
   "language": "python",
   "name": "python3"
  },
  "language_info": {
   "codemirror_mode": {
    "name": "ipython",
    "version": 3
   },
   "file_extension": ".py",
   "mimetype": "text/x-python",
   "name": "python",
   "nbconvert_exporter": "python",
   "pygments_lexer": "ipython3",
   "version": "3.12.1"
  },
  "orig_nbformat": 4
 },
 "nbformat": 4,
 "nbformat_minor": 2
}
